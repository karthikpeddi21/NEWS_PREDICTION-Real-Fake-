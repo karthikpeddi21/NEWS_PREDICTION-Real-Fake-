{
 "cells": [
  {
   "cell_type": "code",
   "execution_count": 1,
   "id": "b5b2b2d4",
   "metadata": {
    "_cell_guid": "b1076dfc-b9ad-4769-8c92-a6c4dae69d19",
    "_uuid": "8f2839f25d086af736a60e9eeb907d3b93b6e0e5",
    "execution": {
     "iopub.execute_input": "2022-06-08T04:33:11.589832Z",
     "iopub.status.busy": "2022-06-08T04:33:11.589232Z",
     "iopub.status.idle": "2022-06-08T04:33:11.599392Z",
     "shell.execute_reply": "2022-06-08T04:33:11.598786Z"
    },
    "papermill": {
     "duration": 0.022724,
     "end_time": "2022-06-08T04:33:11.601475",
     "exception": false,
     "start_time": "2022-06-08T04:33:11.578751",
     "status": "completed"
    },
    "tags": []
   },
   "outputs": [
    {
     "name": "stdout",
     "output_type": "stream",
     "text": [
      "/kaggle/input/fake-news/submit.csv\n",
      "/kaggle/input/fake-news/train.csv\n",
      "/kaggle/input/fake-news/test.csv\n"
     ]
    }
   ],
   "source": [
    "# This Python 3 environment comes with many helpful analytics libraries installed\n",
    "# It is defined by the kaggle/python Docker image: https://github.com/kaggle/docker-python\n",
    "# For example, here's several helpful packages to load\n",
    "\n",
    "import numpy as np # linear algebra\n",
    "import pandas as pd # data processing, CSV file I/O (e.g. pd.read_csv)\n",
    "\n",
    "# Input data files are available in the read-only \"../input/\" directory\n",
    "# For example, running this (by clicking run or pressing Shift+Enter) will list all files under the input directory\n",
    "\n",
    "import os\n",
    "for dirname, _, filenames in os.walk('/kaggle/input'):\n",
    "    for filename in filenames:\n",
    "        print(os.path.join(dirname, filename))\n",
    "\n",
    "# You can write up to 20GB to the current directory (/kaggle/working/) that gets preserved as output when you create a version using \"Save & Run All\" \n",
    "# You can also write temporary files to /kaggle/temp/, but they won't be saved outside of the current session"
   ]
  },
  {
   "cell_type": "markdown",
   "id": "89bd680f",
   "metadata": {
    "papermill": {
     "duration": 0.007544,
     "end_time": "2022-06-08T04:33:11.617146",
     "exception": false,
     "start_time": "2022-06-08T04:33:11.609602",
     "status": "completed"
    },
    "tags": []
   },
   "source": [
    ">** train.csv: A full training dataset with the following attributes:\n",
    "\n",
    "> id: unique id for a news article\n",
    "> title: the title of a news article\n",
    "> author: author of the news article\n",
    "> text: the text of the article; could be incomplete\n",
    "> label: a label that marks the article as potentially unreliable\n",
    "> 1: unreliable\n",
    "> 0: reliable**"
   ]
  },
  {
   "cell_type": "markdown",
   "id": "f7d5957f",
   "metadata": {
    "papermill": {
     "duration": 0.007457,
     "end_time": "2022-06-08T04:33:11.632272",
     "exception": false,
     "start_time": "2022-06-08T04:33:11.624815",
     "status": "completed"
    },
    "tags": []
   },
   "source": [
    "importing important libraries****"
   ]
  },
  {
   "cell_type": "code",
   "execution_count": 2,
   "id": "c1a2ec4c",
   "metadata": {
    "execution": {
     "iopub.execute_input": "2022-06-08T04:33:11.649459Z",
     "iopub.status.busy": "2022-06-08T04:33:11.648710Z",
     "iopub.status.idle": "2022-06-08T04:33:13.327092Z",
     "shell.execute_reply": "2022-06-08T04:33:13.326264Z"
    },
    "papermill": {
     "duration": 1.689328,
     "end_time": "2022-06-08T04:33:13.329172",
     "exception": false,
     "start_time": "2022-06-08T04:33:11.639844",
     "status": "completed"
    },
    "tags": []
   },
   "outputs": [],
   "source": [
    "import numpy as np\n",
    "import pandas as pd\n",
    "import re\n",
    "from nltk.corpus import stopwords\n",
    "from nltk.stem.porter import PorterStemmer\n",
    "from sklearn.feature_extraction.text import TfidfVectorizer\n",
    "from sklearn.model_selection import train_test_split\n",
    "from sklearn.linear_model import LogisticRegression\n",
    "from sklearn.metrics import accuracy_score"
   ]
  },
  {
   "cell_type": "code",
   "execution_count": 3,
   "id": "19c39494",
   "metadata": {
    "execution": {
     "iopub.execute_input": "2022-06-08T04:33:13.347102Z",
     "iopub.status.busy": "2022-06-08T04:33:13.346582Z",
     "iopub.status.idle": "2022-06-08T04:33:13.501536Z",
     "shell.execute_reply": "2022-06-08T04:33:13.500919Z"
    },
    "papermill": {
     "duration": 0.167573,
     "end_time": "2022-06-08T04:33:13.504773",
     "exception": false,
     "start_time": "2022-06-08T04:33:13.337200",
     "status": "completed"
    },
    "tags": []
   },
   "outputs": [
    {
     "name": "stdout",
     "output_type": "stream",
     "text": [
      "[nltk_data] Downloading package stopwords to /usr/share/nltk_data...\n",
      "[nltk_data]   Package stopwords is already up-to-date!\n"
     ]
    },
    {
     "data": {
      "text/plain": [
       "True"
      ]
     },
     "execution_count": 3,
     "metadata": {},
     "output_type": "execute_result"
    }
   ],
   "source": [
    "import nltk\n",
    "nltk.download('stopwords')"
   ]
  },
  {
   "cell_type": "code",
   "execution_count": 4,
   "id": "b5145f95",
   "metadata": {
    "execution": {
     "iopub.execute_input": "2022-06-08T04:33:13.523094Z",
     "iopub.status.busy": "2022-06-08T04:33:13.522593Z",
     "iopub.status.idle": "2022-06-08T04:33:13.530766Z",
     "shell.execute_reply": "2022-06-08T04:33:13.530104Z"
    },
    "papermill": {
     "duration": 0.019158,
     "end_time": "2022-06-08T04:33:13.532587",
     "exception": false,
     "start_time": "2022-06-08T04:33:13.513429",
     "status": "completed"
    },
    "tags": []
   },
   "outputs": [
    {
     "name": "stdout",
     "output_type": "stream",
     "text": [
      "['i', 'me', 'my', 'myself', 'we', 'our', 'ours', 'ourselves', 'you', \"you're\", \"you've\", \"you'll\", \"you'd\", 'your', 'yours', 'yourself', 'yourselves', 'he', 'him', 'his', 'himself', 'she', \"she's\", 'her', 'hers', 'herself', 'it', \"it's\", 'its', 'itself', 'they', 'them', 'their', 'theirs', 'themselves', 'what', 'which', 'who', 'whom', 'this', 'that', \"that'll\", 'these', 'those', 'am', 'is', 'are', 'was', 'were', 'be', 'been', 'being', 'have', 'has', 'had', 'having', 'do', 'does', 'did', 'doing', 'a', 'an', 'the', 'and', 'but', 'if', 'or', 'because', 'as', 'until', 'while', 'of', 'at', 'by', 'for', 'with', 'about', 'against', 'between', 'into', 'through', 'during', 'before', 'after', 'above', 'below', 'to', 'from', 'up', 'down', 'in', 'out', 'on', 'off', 'over', 'under', 'again', 'further', 'then', 'once', 'here', 'there', 'when', 'where', 'why', 'how', 'all', 'any', 'both', 'each', 'few', 'more', 'most', 'other', 'some', 'such', 'no', 'nor', 'not', 'only', 'own', 'same', 'so', 'than', 'too', 'very', 's', 't', 'can', 'will', 'just', 'don', \"don't\", 'should', \"should've\", 'now', 'd', 'll', 'm', 'o', 're', 've', 'y', 'ain', 'aren', \"aren't\", 'couldn', \"couldn't\", 'didn', \"didn't\", 'doesn', \"doesn't\", 'hadn', \"hadn't\", 'hasn', \"hasn't\", 'haven', \"haven't\", 'isn', \"isn't\", 'ma', 'mightn', \"mightn't\", 'mustn', \"mustn't\", 'needn', \"needn't\", 'shan', \"shan't\", 'shouldn', \"shouldn't\", 'wasn', \"wasn't\", 'weren', \"weren't\", 'won', \"won't\", 'wouldn', \"wouldn't\"]\n"
     ]
    }
   ],
   "source": [
    "#printing the stopwords in english\n",
    "\n",
    "print(stopwords.words('english'))"
   ]
  },
  {
   "cell_type": "markdown",
   "id": "abda4526",
   "metadata": {
    "papermill": {
     "duration": 0.007914,
     "end_time": "2022-06-08T04:33:13.548731",
     "exception": false,
     "start_time": "2022-06-08T04:33:13.540817",
     "status": "completed"
    },
    "tags": []
   },
   "source": [
    "Data collection and preprocessing "
   ]
  },
  {
   "cell_type": "code",
   "execution_count": 5,
   "id": "220383df",
   "metadata": {
    "execution": {
     "iopub.execute_input": "2022-06-08T04:33:13.566461Z",
     "iopub.status.busy": "2022-06-08T04:33:13.565915Z",
     "iopub.status.idle": "2022-06-08T04:33:16.169497Z",
     "shell.execute_reply": "2022-06-08T04:33:16.168591Z"
    },
    "papermill": {
     "duration": 2.615019,
     "end_time": "2022-06-08T04:33:16.171696",
     "exception": false,
     "start_time": "2022-06-08T04:33:13.556677",
     "status": "completed"
    },
    "tags": []
   },
   "outputs": [],
   "source": [
    "data = pd.read_csv('../input/fake-news/train.csv')"
   ]
  },
  {
   "cell_type": "code",
   "execution_count": 6,
   "id": "113d3f51",
   "metadata": {
    "execution": {
     "iopub.execute_input": "2022-06-08T04:33:16.190612Z",
     "iopub.status.busy": "2022-06-08T04:33:16.189687Z",
     "iopub.status.idle": "2022-06-08T04:33:16.206946Z",
     "shell.execute_reply": "2022-06-08T04:33:16.206299Z"
    },
    "papermill": {
     "duration": 0.028833,
     "end_time": "2022-06-08T04:33:16.208854",
     "exception": false,
     "start_time": "2022-06-08T04:33:16.180021",
     "status": "completed"
    },
    "tags": []
   },
   "outputs": [
    {
     "data": {
      "text/html": [
       "<div>\n",
       "<style scoped>\n",
       "    .dataframe tbody tr th:only-of-type {\n",
       "        vertical-align: middle;\n",
       "    }\n",
       "\n",
       "    .dataframe tbody tr th {\n",
       "        vertical-align: top;\n",
       "    }\n",
       "\n",
       "    .dataframe thead th {\n",
       "        text-align: right;\n",
       "    }\n",
       "</style>\n",
       "<table border=\"1\" class=\"dataframe\">\n",
       "  <thead>\n",
       "    <tr style=\"text-align: right;\">\n",
       "      <th></th>\n",
       "      <th>id</th>\n",
       "      <th>title</th>\n",
       "      <th>author</th>\n",
       "      <th>text</th>\n",
       "      <th>label</th>\n",
       "    </tr>\n",
       "  </thead>\n",
       "  <tbody>\n",
       "    <tr>\n",
       "      <th>0</th>\n",
       "      <td>0</td>\n",
       "      <td>House Dem Aide: We Didn’t Even See Comey’s Let...</td>\n",
       "      <td>Darrell Lucus</td>\n",
       "      <td>House Dem Aide: We Didn’t Even See Comey’s Let...</td>\n",
       "      <td>1</td>\n",
       "    </tr>\n",
       "    <tr>\n",
       "      <th>1</th>\n",
       "      <td>1</td>\n",
       "      <td>FLYNN: Hillary Clinton, Big Woman on Campus - ...</td>\n",
       "      <td>Daniel J. Flynn</td>\n",
       "      <td>Ever get the feeling your life circles the rou...</td>\n",
       "      <td>0</td>\n",
       "    </tr>\n",
       "    <tr>\n",
       "      <th>2</th>\n",
       "      <td>2</td>\n",
       "      <td>Why the Truth Might Get You Fired</td>\n",
       "      <td>Consortiumnews.com</td>\n",
       "      <td>Why the Truth Might Get You Fired October 29, ...</td>\n",
       "      <td>1</td>\n",
       "    </tr>\n",
       "    <tr>\n",
       "      <th>3</th>\n",
       "      <td>3</td>\n",
       "      <td>15 Civilians Killed In Single US Airstrike Hav...</td>\n",
       "      <td>Jessica Purkiss</td>\n",
       "      <td>Videos 15 Civilians Killed In Single US Airstr...</td>\n",
       "      <td>1</td>\n",
       "    </tr>\n",
       "    <tr>\n",
       "      <th>4</th>\n",
       "      <td>4</td>\n",
       "      <td>Iranian woman jailed for fictional unpublished...</td>\n",
       "      <td>Howard Portnoy</td>\n",
       "      <td>Print \\nAn Iranian woman has been sentenced to...</td>\n",
       "      <td>1</td>\n",
       "    </tr>\n",
       "  </tbody>\n",
       "</table>\n",
       "</div>"
      ],
      "text/plain": [
       "   id                                              title              author  \\\n",
       "0   0  House Dem Aide: We Didn’t Even See Comey’s Let...       Darrell Lucus   \n",
       "1   1  FLYNN: Hillary Clinton, Big Woman on Campus - ...     Daniel J. Flynn   \n",
       "2   2                  Why the Truth Might Get You Fired  Consortiumnews.com   \n",
       "3   3  15 Civilians Killed In Single US Airstrike Hav...     Jessica Purkiss   \n",
       "4   4  Iranian woman jailed for fictional unpublished...      Howard Portnoy   \n",
       "\n",
       "                                                text  label  \n",
       "0  House Dem Aide: We Didn’t Even See Comey’s Let...      1  \n",
       "1  Ever get the feeling your life circles the rou...      0  \n",
       "2  Why the Truth Might Get You Fired October 29, ...      1  \n",
       "3  Videos 15 Civilians Killed In Single US Airstr...      1  \n",
       "4  Print \\nAn Iranian woman has been sentenced to...      1  "
      ]
     },
     "execution_count": 6,
     "metadata": {},
     "output_type": "execute_result"
    }
   ],
   "source": [
    "data.head()"
   ]
  },
  {
   "cell_type": "code",
   "execution_count": 7,
   "id": "096a6145",
   "metadata": {
    "execution": {
     "iopub.execute_input": "2022-06-08T04:33:16.227973Z",
     "iopub.status.busy": "2022-06-08T04:33:16.227605Z",
     "iopub.status.idle": "2022-06-08T04:33:16.233198Z",
     "shell.execute_reply": "2022-06-08T04:33:16.232358Z"
    },
    "papermill": {
     "duration": 0.017591,
     "end_time": "2022-06-08T04:33:16.235070",
     "exception": false,
     "start_time": "2022-06-08T04:33:16.217479",
     "status": "completed"
    },
    "tags": []
   },
   "outputs": [
    {
     "data": {
      "text/plain": [
       "(20800, 5)"
      ]
     },
     "execution_count": 7,
     "metadata": {},
     "output_type": "execute_result"
    }
   ],
   "source": [
    "data.shape"
   ]
  },
  {
   "cell_type": "code",
   "execution_count": 8,
   "id": "eb25df5c",
   "metadata": {
    "execution": {
     "iopub.execute_input": "2022-06-08T04:33:16.254303Z",
     "iopub.status.busy": "2022-06-08T04:33:16.253932Z",
     "iopub.status.idle": "2022-06-08T04:33:16.267588Z",
     "shell.execute_reply": "2022-06-08T04:33:16.266709Z"
    },
    "papermill": {
     "duration": 0.025728,
     "end_time": "2022-06-08T04:33:16.269414",
     "exception": false,
     "start_time": "2022-06-08T04:33:16.243686",
     "status": "completed"
    },
    "tags": []
   },
   "outputs": [
    {
     "data": {
      "text/plain": [
       "id           0\n",
       "title      558\n",
       "author    1957\n",
       "text        39\n",
       "label        0\n",
       "dtype: int64"
      ]
     },
     "execution_count": 8,
     "metadata": {},
     "output_type": "execute_result"
    }
   ],
   "source": [
    "data.isnull().sum()"
   ]
  },
  {
   "cell_type": "code",
   "execution_count": 9,
   "id": "9a482d82",
   "metadata": {
    "execution": {
     "iopub.execute_input": "2022-06-08T04:33:16.289072Z",
     "iopub.status.busy": "2022-06-08T04:33:16.288699Z",
     "iopub.status.idle": "2022-06-08T04:33:16.319347Z",
     "shell.execute_reply": "2022-06-08T04:33:16.317824Z"
    },
    "papermill": {
     "duration": 0.043958,
     "end_time": "2022-06-08T04:33:16.322442",
     "exception": false,
     "start_time": "2022-06-08T04:33:16.278484",
     "status": "completed"
    },
    "tags": []
   },
   "outputs": [
    {
     "name": "stdout",
     "output_type": "stream",
     "text": [
      "<class 'pandas.core.frame.DataFrame'>\n",
      "RangeIndex: 20800 entries, 0 to 20799\n",
      "Data columns (total 5 columns):\n",
      " #   Column  Non-Null Count  Dtype \n",
      "---  ------  --------------  ----- \n",
      " 0   id      20800 non-null  int64 \n",
      " 1   title   20242 non-null  object\n",
      " 2   author  18843 non-null  object\n",
      " 3   text    20761 non-null  object\n",
      " 4   label   20800 non-null  int64 \n",
      "dtypes: int64(2), object(3)\n",
      "memory usage: 812.6+ KB\n"
     ]
    }
   ],
   "source": [
    "data.info()"
   ]
  },
  {
   "cell_type": "markdown",
   "id": "1547d2aa",
   "metadata": {
    "papermill": {
     "duration": 0.00897,
     "end_time": "2022-06-08T04:33:16.341387",
     "exception": false,
     "start_time": "2022-06-08T04:33:16.332417",
     "status": "completed"
    },
    "tags": []
   },
   "source": [
    "in author there 1957 in author coloumn\n",
    "in title there are 558 missing values"
   ]
  },
  {
   "cell_type": "code",
   "execution_count": 10,
   "id": "38dfdf49",
   "metadata": {
    "execution": {
     "iopub.execute_input": "2022-06-08T04:33:16.361843Z",
     "iopub.status.busy": "2022-06-08T04:33:16.360911Z",
     "iopub.status.idle": "2022-06-08T04:33:16.373000Z",
     "shell.execute_reply": "2022-06-08T04:33:16.372012Z"
    },
    "papermill": {
     "duration": 0.024215,
     "end_time": "2022-06-08T04:33:16.375094",
     "exception": false,
     "start_time": "2022-06-08T04:33:16.350879",
     "status": "completed"
    },
    "tags": []
   },
   "outputs": [],
   "source": [
    "#replacing null values with empyty string\n",
    "data = data.fillna('')"
   ]
  },
  {
   "cell_type": "code",
   "execution_count": 11,
   "id": "d6c0a134",
   "metadata": {
    "execution": {
     "iopub.execute_input": "2022-06-08T04:33:16.394415Z",
     "iopub.status.busy": "2022-06-08T04:33:16.393657Z",
     "iopub.status.idle": "2022-06-08T04:33:16.407961Z",
     "shell.execute_reply": "2022-06-08T04:33:16.407012Z"
    },
    "papermill": {
     "duration": 0.025941,
     "end_time": "2022-06-08T04:33:16.409821",
     "exception": false,
     "start_time": "2022-06-08T04:33:16.383880",
     "status": "completed"
    },
    "tags": []
   },
   "outputs": [
    {
     "data": {
      "text/plain": [
       "id        0\n",
       "title     0\n",
       "author    0\n",
       "text      0\n",
       "label     0\n",
       "dtype: int64"
      ]
     },
     "execution_count": 11,
     "metadata": {},
     "output_type": "execute_result"
    }
   ],
   "source": [
    "data.isnull().sum()"
   ]
  },
  {
   "cell_type": "code",
   "execution_count": 12,
   "id": "8e8360bd",
   "metadata": {
    "execution": {
     "iopub.execute_input": "2022-06-08T04:33:16.429198Z",
     "iopub.status.busy": "2022-06-08T04:33:16.428787Z",
     "iopub.status.idle": "2022-06-08T04:33:16.442993Z",
     "shell.execute_reply": "2022-06-08T04:33:16.442051Z"
    },
    "papermill": {
     "duration": 0.027165,
     "end_time": "2022-06-08T04:33:16.445732",
     "exception": false,
     "start_time": "2022-06-08T04:33:16.418567",
     "status": "completed"
    },
    "tags": []
   },
   "outputs": [],
   "source": [
    "#merging the author and news titile coloumn\n",
    "data['content']=data['author']+' '+data['title']"
   ]
  },
  {
   "cell_type": "code",
   "execution_count": 13,
   "id": "a27e9b51",
   "metadata": {
    "execution": {
     "iopub.execute_input": "2022-06-08T04:33:16.466366Z",
     "iopub.status.busy": "2022-06-08T04:33:16.465667Z",
     "iopub.status.idle": "2022-06-08T04:33:16.472431Z",
     "shell.execute_reply": "2022-06-08T04:33:16.471579Z"
    },
    "papermill": {
     "duration": 0.020909,
     "end_time": "2022-06-08T04:33:16.475501",
     "exception": false,
     "start_time": "2022-06-08T04:33:16.454592",
     "status": "completed"
    },
    "tags": []
   },
   "outputs": [
    {
     "name": "stdout",
     "output_type": "stream",
     "text": [
      "0        Darrell Lucus House Dem Aide: We Didn’t Even S...\n",
      "1        Daniel J. Flynn FLYNN: Hillary Clinton, Big Wo...\n",
      "2        Consortiumnews.com Why the Truth Might Get You...\n",
      "3        Jessica Purkiss 15 Civilians Killed In Single ...\n",
      "4        Howard Portnoy Iranian woman jailed for fictio...\n",
      "                               ...                        \n",
      "20795    Jerome Hudson Rapper T.I.: Trump a ’Poster Chi...\n",
      "20796    Benjamin Hoffman N.F.L. Playoffs: Schedule, Ma...\n",
      "20797    Michael J. de la Merced and Rachel Abrams Macy...\n",
      "20798    Alex Ansary NATO, Russia To Hold Parallel Exer...\n",
      "20799              David Swanson What Keeps the F-35 Alive\n",
      "Name: content, Length: 20800, dtype: object\n"
     ]
    }
   ],
   "source": [
    "print(data['content'])"
   ]
  },
  {
   "cell_type": "code",
   "execution_count": 14,
   "id": "15e561af",
   "metadata": {
    "execution": {
     "iopub.execute_input": "2022-06-08T04:33:16.495150Z",
     "iopub.status.busy": "2022-06-08T04:33:16.494543Z",
     "iopub.status.idle": "2022-06-08T04:33:16.506896Z",
     "shell.execute_reply": "2022-06-08T04:33:16.506040Z"
    },
    "papermill": {
     "duration": 0.024734,
     "end_time": "2022-06-08T04:33:16.509130",
     "exception": false,
     "start_time": "2022-06-08T04:33:16.484396",
     "status": "completed"
    },
    "tags": []
   },
   "outputs": [],
   "source": [
    "#separating the data and target columns\n",
    "x = data.drop(columns='label', axis=1)\n",
    "y = data['label']"
   ]
  },
  {
   "cell_type": "code",
   "execution_count": 15,
   "id": "ab848cdc",
   "metadata": {
    "execution": {
     "iopub.execute_input": "2022-06-08T04:33:16.528498Z",
     "iopub.status.busy": "2022-06-08T04:33:16.528133Z",
     "iopub.status.idle": "2022-06-08T04:33:16.538857Z",
     "shell.execute_reply": "2022-06-08T04:33:16.537750Z"
    },
    "papermill": {
     "duration": 0.023774,
     "end_time": "2022-06-08T04:33:16.541739",
     "exception": false,
     "start_time": "2022-06-08T04:33:16.517965",
     "status": "completed"
    },
    "tags": []
   },
   "outputs": [
    {
     "name": "stdout",
     "output_type": "stream",
     "text": [
      "          id                                              title  \\\n",
      "0          0  House Dem Aide: We Didn’t Even See Comey’s Let...   \n",
      "1          1  FLYNN: Hillary Clinton, Big Woman on Campus - ...   \n",
      "2          2                  Why the Truth Might Get You Fired   \n",
      "3          3  15 Civilians Killed In Single US Airstrike Hav...   \n",
      "4          4  Iranian woman jailed for fictional unpublished...   \n",
      "...      ...                                                ...   \n",
      "20795  20795  Rapper T.I.: Trump a ’Poster Child For White S...   \n",
      "20796  20796  N.F.L. Playoffs: Schedule, Matchups and Odds -...   \n",
      "20797  20797  Macy’s Is Said to Receive Takeover Approach by...   \n",
      "20798  20798  NATO, Russia To Hold Parallel Exercises In Bal...   \n",
      "20799  20799                          What Keeps the F-35 Alive   \n",
      "\n",
      "                                          author  \\\n",
      "0                                  Darrell Lucus   \n",
      "1                                Daniel J. Flynn   \n",
      "2                             Consortiumnews.com   \n",
      "3                                Jessica Purkiss   \n",
      "4                                 Howard Portnoy   \n",
      "...                                          ...   \n",
      "20795                              Jerome Hudson   \n",
      "20796                           Benjamin Hoffman   \n",
      "20797  Michael J. de la Merced and Rachel Abrams   \n",
      "20798                                Alex Ansary   \n",
      "20799                              David Swanson   \n",
      "\n",
      "                                                    text  \\\n",
      "0      House Dem Aide: We Didn’t Even See Comey’s Let...   \n",
      "1      Ever get the feeling your life circles the rou...   \n",
      "2      Why the Truth Might Get You Fired October 29, ...   \n",
      "3      Videos 15 Civilians Killed In Single US Airstr...   \n",
      "4      Print \\nAn Iranian woman has been sentenced to...   \n",
      "...                                                  ...   \n",
      "20795  Rapper T. I. unloaded on black celebrities who...   \n",
      "20796  When the Green Bay Packers lost to the Washing...   \n",
      "20797  The Macy’s of today grew from the union of sev...   \n",
      "20798  NATO, Russia To Hold Parallel Exercises In Bal...   \n",
      "20799    David Swanson is an author, activist, journa...   \n",
      "\n",
      "                                                 content  \n",
      "0      Darrell Lucus House Dem Aide: We Didn’t Even S...  \n",
      "1      Daniel J. Flynn FLYNN: Hillary Clinton, Big Wo...  \n",
      "2      Consortiumnews.com Why the Truth Might Get You...  \n",
      "3      Jessica Purkiss 15 Civilians Killed In Single ...  \n",
      "4      Howard Portnoy Iranian woman jailed for fictio...  \n",
      "...                                                  ...  \n",
      "20795  Jerome Hudson Rapper T.I.: Trump a ’Poster Chi...  \n",
      "20796  Benjamin Hoffman N.F.L. Playoffs: Schedule, Ma...  \n",
      "20797  Michael J. de la Merced and Rachel Abrams Macy...  \n",
      "20798  Alex Ansary NATO, Russia To Hold Parallel Exer...  \n",
      "20799            David Swanson What Keeps the F-35 Alive  \n",
      "\n",
      "[20800 rows x 5 columns]\n"
     ]
    }
   ],
   "source": [
    "print(x)"
   ]
  },
  {
   "cell_type": "code",
   "execution_count": 16,
   "id": "26cedfe3",
   "metadata": {
    "execution": {
     "iopub.execute_input": "2022-06-08T04:33:16.563659Z",
     "iopub.status.busy": "2022-06-08T04:33:16.562630Z",
     "iopub.status.idle": "2022-06-08T04:33:16.569423Z",
     "shell.execute_reply": "2022-06-08T04:33:16.568200Z"
    },
    "papermill": {
     "duration": 0.01953,
     "end_time": "2022-06-08T04:33:16.571529",
     "exception": false,
     "start_time": "2022-06-08T04:33:16.551999",
     "status": "completed"
    },
    "tags": []
   },
   "outputs": [
    {
     "name": "stdout",
     "output_type": "stream",
     "text": [
      "0        1\n",
      "1        0\n",
      "2        1\n",
      "3        1\n",
      "4        1\n",
      "        ..\n",
      "20795    0\n",
      "20796    0\n",
      "20797    0\n",
      "20798    1\n",
      "20799    1\n",
      "Name: label, Length: 20800, dtype: int64\n"
     ]
    }
   ],
   "source": [
    "print(y)"
   ]
  },
  {
   "cell_type": "markdown",
   "id": "13323a84",
   "metadata": {
    "papermill": {
     "duration": 0.009033,
     "end_time": "2022-06-08T04:33:16.589823",
     "exception": false,
     "start_time": "2022-06-08T04:33:16.580790",
     "status": "completed"
    },
    "tags": []
   },
   "source": [
    "Stemming:\n",
    "\n",
    "Stemming is the process of reducing a word to its Root word\n",
    "\n",
    "example: actor, actress, acting --> act"
   ]
  },
  {
   "cell_type": "code",
   "execution_count": 17,
   "id": "2452cf83",
   "metadata": {
    "execution": {
     "iopub.execute_input": "2022-06-08T04:33:16.610997Z",
     "iopub.status.busy": "2022-06-08T04:33:16.610585Z",
     "iopub.status.idle": "2022-06-08T04:33:16.615193Z",
     "shell.execute_reply": "2022-06-08T04:33:16.614299Z"
    },
    "papermill": {
     "duration": 0.017062,
     "end_time": "2022-06-08T04:33:16.617163",
     "exception": false,
     "start_time": "2022-06-08T04:33:16.600101",
     "status": "completed"
    },
    "tags": []
   },
   "outputs": [],
   "source": [
    "port_stem = PorterStemmer()"
   ]
  },
  {
   "cell_type": "code",
   "execution_count": 18,
   "id": "c23a98ae",
   "metadata": {
    "execution": {
     "iopub.execute_input": "2022-06-08T04:33:16.637130Z",
     "iopub.status.busy": "2022-06-08T04:33:16.636765Z",
     "iopub.status.idle": "2022-06-08T04:33:16.641690Z",
     "shell.execute_reply": "2022-06-08T04:33:16.640796Z"
    },
    "papermill": {
     "duration": 0.017085,
     "end_time": "2022-06-08T04:33:16.643609",
     "exception": false,
     "start_time": "2022-06-08T04:33:16.626524",
     "status": "completed"
    },
    "tags": []
   },
   "outputs": [],
   "source": [
    "def stemming(content):\n",
    "    stemmed_content = re.sub('[^a-zA-Z]',' ',content)\n",
    "    stemmed_content = stemmed_content.lower()\n",
    "    stemmed_content = stemmed_content.split()\n",
    "    stemmed_content = [port_stem.stem(word) for word in stemmed_content if not word in stopwords.words('english')]\n",
    "    stemmed_content = ' '.join(stemmed_content)\n",
    "    return stemmed_content"
   ]
  },
  {
   "cell_type": "code",
   "execution_count": 19,
   "id": "eb02519e",
   "metadata": {
    "execution": {
     "iopub.execute_input": "2022-06-08T04:33:16.663335Z",
     "iopub.status.busy": "2022-06-08T04:33:16.662930Z",
     "iopub.status.idle": "2022-06-08T04:33:56.738269Z",
     "shell.execute_reply": "2022-06-08T04:33:56.737423Z"
    },
    "papermill": {
     "duration": 40.08763,
     "end_time": "2022-06-08T04:33:56.740324",
     "exception": false,
     "start_time": "2022-06-08T04:33:16.652694",
     "status": "completed"
    },
    "tags": []
   },
   "outputs": [],
   "source": [
    "data['content'] = data['content'].apply(stemming)"
   ]
  },
  {
   "cell_type": "code",
   "execution_count": 20,
   "id": "bf678208",
   "metadata": {
    "execution": {
     "iopub.execute_input": "2022-06-08T04:33:56.760661Z",
     "iopub.status.busy": "2022-06-08T04:33:56.759586Z",
     "iopub.status.idle": "2022-06-08T04:33:56.766802Z",
     "shell.execute_reply": "2022-06-08T04:33:56.765612Z"
    },
    "papermill": {
     "duration": 0.019774,
     "end_time": "2022-06-08T04:33:56.769308",
     "exception": false,
     "start_time": "2022-06-08T04:33:56.749534",
     "status": "completed"
    },
    "tags": []
   },
   "outputs": [
    {
     "name": "stdout",
     "output_type": "stream",
     "text": [
      "0        darrel lucu hous dem aid even see comey letter...\n",
      "1        daniel j flynn flynn hillari clinton big woman...\n",
      "2                   consortiumnew com truth might get fire\n",
      "3        jessica purkiss civilian kill singl us airstri...\n",
      "4        howard portnoy iranian woman jail fiction unpu...\n",
      "                               ...                        \n",
      "20795    jerom hudson rapper trump poster child white s...\n",
      "20796    benjamin hoffman n f l playoff schedul matchup...\n",
      "20797    michael j de la merc rachel abram maci said re...\n",
      "20798    alex ansari nato russia hold parallel exercis ...\n",
      "20799                            david swanson keep f aliv\n",
      "Name: content, Length: 20800, dtype: object\n"
     ]
    }
   ],
   "source": [
    "print(data['content'])"
   ]
  },
  {
   "cell_type": "code",
   "execution_count": 21,
   "id": "a1bd7384",
   "metadata": {
    "execution": {
     "iopub.execute_input": "2022-06-08T04:33:56.793230Z",
     "iopub.status.busy": "2022-06-08T04:33:56.792832Z",
     "iopub.status.idle": "2022-06-08T04:33:56.797378Z",
     "shell.execute_reply": "2022-06-08T04:33:56.796506Z"
    },
    "papermill": {
     "duration": 0.018435,
     "end_time": "2022-06-08T04:33:56.799438",
     "exception": false,
     "start_time": "2022-06-08T04:33:56.781003",
     "status": "completed"
    },
    "tags": []
   },
   "outputs": [],
   "source": [
    "#separting the data set \n",
    "X = data['content'].values\n",
    "Y = data['label'].values"
   ]
  },
  {
   "cell_type": "code",
   "execution_count": 22,
   "id": "621cbb25",
   "metadata": {
    "execution": {
     "iopub.execute_input": "2022-06-08T04:33:56.820833Z",
     "iopub.status.busy": "2022-06-08T04:33:56.820084Z",
     "iopub.status.idle": "2022-06-08T04:33:56.825937Z",
     "shell.execute_reply": "2022-06-08T04:33:56.824383Z"
    },
    "papermill": {
     "duration": 0.018935,
     "end_time": "2022-06-08T04:33:56.828323",
     "exception": false,
     "start_time": "2022-06-08T04:33:56.809388",
     "status": "completed"
    },
    "tags": []
   },
   "outputs": [
    {
     "name": "stdout",
     "output_type": "stream",
     "text": [
      "['darrel lucu hous dem aid even see comey letter jason chaffetz tweet'\n",
      " 'daniel j flynn flynn hillari clinton big woman campu breitbart'\n",
      " 'consortiumnew com truth might get fire' ...\n",
      " 'michael j de la merc rachel abram maci said receiv takeov approach hudson bay new york time'\n",
      " 'alex ansari nato russia hold parallel exercis balkan'\n",
      " 'david swanson keep f aliv']\n"
     ]
    }
   ],
   "source": [
    "print(X)"
   ]
  },
  {
   "cell_type": "code",
   "execution_count": 23,
   "id": "0e2da40a",
   "metadata": {
    "execution": {
     "iopub.execute_input": "2022-06-08T04:33:56.851574Z",
     "iopub.status.busy": "2022-06-08T04:33:56.850840Z",
     "iopub.status.idle": "2022-06-08T04:33:56.856254Z",
     "shell.execute_reply": "2022-06-08T04:33:56.855433Z"
    },
    "papermill": {
     "duration": 0.019296,
     "end_time": "2022-06-08T04:33:56.858221",
     "exception": false,
     "start_time": "2022-06-08T04:33:56.838925",
     "status": "completed"
    },
    "tags": []
   },
   "outputs": [
    {
     "name": "stdout",
     "output_type": "stream",
     "text": [
      "[1 0 1 ... 0 1 1]\n"
     ]
    }
   ],
   "source": [
    "print(Y)"
   ]
  },
  {
   "cell_type": "code",
   "execution_count": 24,
   "id": "cde889b6",
   "metadata": {
    "execution": {
     "iopub.execute_input": "2022-06-08T04:33:56.879395Z",
     "iopub.status.busy": "2022-06-08T04:33:56.878701Z",
     "iopub.status.idle": "2022-06-08T04:33:56.883261Z",
     "shell.execute_reply": "2022-06-08T04:33:56.882318Z"
    },
    "papermill": {
     "duration": 0.017105,
     "end_time": "2022-06-08T04:33:56.885006",
     "exception": false,
     "start_time": "2022-06-08T04:33:56.867901",
     "status": "completed"
    },
    "tags": []
   },
   "outputs": [
    {
     "name": "stdout",
     "output_type": "stream",
     "text": [
      "(20800,)\n"
     ]
    }
   ],
   "source": [
    "print(X.shape)"
   ]
  },
  {
   "cell_type": "code",
   "execution_count": 25,
   "id": "22c27b20",
   "metadata": {
    "execution": {
     "iopub.execute_input": "2022-06-08T04:33:56.905241Z",
     "iopub.status.busy": "2022-06-08T04:33:56.904549Z",
     "iopub.status.idle": "2022-06-08T04:33:56.909952Z",
     "shell.execute_reply": "2022-06-08T04:33:56.908833Z"
    },
    "papermill": {
     "duration": 0.018141,
     "end_time": "2022-06-08T04:33:56.912346",
     "exception": false,
     "start_time": "2022-06-08T04:33:56.894205",
     "status": "completed"
    },
    "tags": []
   },
   "outputs": [
    {
     "name": "stdout",
     "output_type": "stream",
     "text": [
      "(20800,)\n"
     ]
    }
   ],
   "source": [
    "print(Y.shape)"
   ]
  },
  {
   "cell_type": "code",
   "execution_count": 26,
   "id": "2d5bc517",
   "metadata": {
    "execution": {
     "iopub.execute_input": "2022-06-08T04:33:56.934484Z",
     "iopub.status.busy": "2022-06-08T04:33:56.933900Z",
     "iopub.status.idle": "2022-06-08T04:33:57.440319Z",
     "shell.execute_reply": "2022-06-08T04:33:57.439330Z"
    },
    "papermill": {
     "duration": 0.520181,
     "end_time": "2022-06-08T04:33:57.442865",
     "exception": false,
     "start_time": "2022-06-08T04:33:56.922684",
     "status": "completed"
    },
    "tags": []
   },
   "outputs": [],
   "source": [
    "# converting the textual data to numerical data\n",
    "vectorizer = TfidfVectorizer()\n",
    "vectorizer.fit(X)\n",
    "\n",
    "X = vectorizer.transform(X)"
   ]
  },
  {
   "cell_type": "code",
   "execution_count": 27,
   "id": "69854909",
   "metadata": {
    "execution": {
     "iopub.execute_input": "2022-06-08T04:33:57.464917Z",
     "iopub.status.busy": "2022-06-08T04:33:57.464506Z",
     "iopub.status.idle": "2022-06-08T04:33:57.472153Z",
     "shell.execute_reply": "2022-06-08T04:33:57.471381Z"
    },
    "papermill": {
     "duration": 0.020786,
     "end_time": "2022-06-08T04:33:57.474231",
     "exception": false,
     "start_time": "2022-06-08T04:33:57.453445",
     "status": "completed"
    },
    "tags": []
   },
   "outputs": [
    {
     "name": "stdout",
     "output_type": "stream",
     "text": [
      "  (0, 15686)\t0.28485063562728646\n",
      "  (0, 13473)\t0.2565896679337957\n",
      "  (0, 8909)\t0.3635963806326075\n",
      "  (0, 8630)\t0.29212514087043684\n",
      "  (0, 7692)\t0.24785219520671603\n",
      "  (0, 7005)\t0.21874169089359144\n",
      "  (0, 4973)\t0.233316966909351\n",
      "  (0, 3792)\t0.2705332480845492\n",
      "  (0, 3600)\t0.3598939188262559\n",
      "  (0, 2959)\t0.2468450128533713\n",
      "  (0, 2483)\t0.3676519686797209\n",
      "  (0, 267)\t0.27010124977708766\n",
      "  (1, 16799)\t0.30071745655510157\n",
      "  (1, 6816)\t0.1904660198296849\n",
      "  (1, 5503)\t0.7143299355715573\n",
      "  (1, 3568)\t0.26373768806048464\n",
      "  (1, 2813)\t0.19094574062359204\n",
      "  (1, 2223)\t0.3827320386859759\n",
      "  (1, 1894)\t0.15521974226349364\n",
      "  (1, 1497)\t0.2939891562094648\n",
      "  (2, 15611)\t0.41544962664721613\n",
      "  (2, 9620)\t0.49351492943649944\n",
      "  (2, 5968)\t0.3474613386728292\n",
      "  (2, 5389)\t0.3866530551182615\n",
      "  (2, 3103)\t0.46097489583229645\n",
      "  :\t:\n",
      "  (20797, 13122)\t0.2482526352197606\n",
      "  (20797, 12344)\t0.27263457663336677\n",
      "  (20797, 12138)\t0.24778257724396507\n",
      "  (20797, 10306)\t0.08038079000566466\n",
      "  (20797, 9588)\t0.174553480255222\n",
      "  (20797, 9518)\t0.2954204003420313\n",
      "  (20797, 8988)\t0.36160868928090795\n",
      "  (20797, 8364)\t0.22322585870464118\n",
      "  (20797, 7042)\t0.21799048897828688\n",
      "  (20797, 3643)\t0.21155500613623743\n",
      "  (20797, 1287)\t0.33538056804139865\n",
      "  (20797, 699)\t0.30685846079762347\n",
      "  (20797, 43)\t0.29710241860700626\n",
      "  (20798, 13046)\t0.22363267488270608\n",
      "  (20798, 11052)\t0.4460515589182236\n",
      "  (20798, 10177)\t0.3192496370187028\n",
      "  (20798, 6889)\t0.32496285694299426\n",
      "  (20798, 5032)\t0.4083701450239529\n",
      "  (20798, 1125)\t0.4460515589182236\n",
      "  (20798, 588)\t0.3112141524638974\n",
      "  (20798, 350)\t0.28446937819072576\n",
      "  (20799, 14852)\t0.5677577267055112\n",
      "  (20799, 8036)\t0.45983893273780013\n",
      "  (20799, 3623)\t0.37927626273066584\n",
      "  (20799, 377)\t0.5677577267055112\n"
     ]
    }
   ],
   "source": [
    "print(X)"
   ]
  },
  {
   "cell_type": "markdown",
   "id": "a4fb8152",
   "metadata": {
    "papermill": {
     "duration": 0.009983,
     "end_time": "2022-06-08T04:33:57.494419",
     "exception": false,
     "start_time": "2022-06-08T04:33:57.484436",
     "status": "completed"
    },
    "tags": []
   },
   "source": [
    "Splitting the data"
   ]
  },
  {
   "cell_type": "code",
   "execution_count": 28,
   "id": "5a8e1cde",
   "metadata": {
    "execution": {
     "iopub.execute_input": "2022-06-08T04:33:57.516706Z",
     "iopub.status.busy": "2022-06-08T04:33:57.515697Z",
     "iopub.status.idle": "2022-06-08T04:33:57.532906Z",
     "shell.execute_reply": "2022-06-08T04:33:57.532113Z"
    },
    "papermill": {
     "duration": 0.030523,
     "end_time": "2022-06-08T04:33:57.535229",
     "exception": false,
     "start_time": "2022-06-08T04:33:57.504706",
     "status": "completed"
    },
    "tags": []
   },
   "outputs": [],
   "source": [
    "X_train, X_test, Y_train, Y_test = train_test_split(X, Y, test_size = 0.2, stratify=Y, random_state=2)"
   ]
  },
  {
   "cell_type": "code",
   "execution_count": 29,
   "id": "64a0002f",
   "metadata": {
    "execution": {
     "iopub.execute_input": "2022-06-08T04:33:57.557504Z",
     "iopub.status.busy": "2022-06-08T04:33:57.556828Z",
     "iopub.status.idle": "2022-06-08T04:33:57.560900Z",
     "shell.execute_reply": "2022-06-08T04:33:57.560116Z"
    },
    "papermill": {
     "duration": 0.017155,
     "end_time": "2022-06-08T04:33:57.562653",
     "exception": false,
     "start_time": "2022-06-08T04:33:57.545498",
     "status": "completed"
    },
    "tags": []
   },
   "outputs": [],
   "source": [
    "model = LogisticRegression()"
   ]
  },
  {
   "cell_type": "code",
   "execution_count": 30,
   "id": "b3386e4e",
   "metadata": {
    "execution": {
     "iopub.execute_input": "2022-06-08T04:33:57.584410Z",
     "iopub.status.busy": "2022-06-08T04:33:57.583675Z",
     "iopub.status.idle": "2022-06-08T04:33:58.039437Z",
     "shell.execute_reply": "2022-06-08T04:33:58.038380Z"
    },
    "papermill": {
     "duration": 0.469327,
     "end_time": "2022-06-08T04:33:58.042175",
     "exception": false,
     "start_time": "2022-06-08T04:33:57.572848",
     "status": "completed"
    },
    "tags": []
   },
   "outputs": [
    {
     "data": {
      "text/plain": [
       "LogisticRegression()"
      ]
     },
     "execution_count": 30,
     "metadata": {},
     "output_type": "execute_result"
    }
   ],
   "source": [
    "model.fit(X_train, Y_train)"
   ]
  },
  {
   "cell_type": "markdown",
   "id": "96ff45bf",
   "metadata": {
    "papermill": {
     "duration": 0.0529,
     "end_time": "2022-06-08T04:33:58.132911",
     "exception": false,
     "start_time": "2022-06-08T04:33:58.080011",
     "status": "completed"
    },
    "tags": []
   },
   "source": [
    "Evalution\n",
    "\n",
    "\n",
    "\n",
    "Accuracy_Score"
   ]
  },
  {
   "cell_type": "code",
   "execution_count": 31,
   "id": "ad1e8d32",
   "metadata": {
    "execution": {
     "iopub.execute_input": "2022-06-08T04:33:58.169384Z",
     "iopub.status.busy": "2022-06-08T04:33:58.168990Z",
     "iopub.status.idle": "2022-06-08T04:33:58.176719Z",
     "shell.execute_reply": "2022-06-08T04:33:58.176025Z"
    },
    "papermill": {
     "duration": 0.021318,
     "end_time": "2022-06-08T04:33:58.179249",
     "exception": false,
     "start_time": "2022-06-08T04:33:58.157931",
     "status": "completed"
    },
    "tags": []
   },
   "outputs": [],
   "source": [
    "# accuracy score on the training data\n",
    "X_train_prediction = model.predict(X_train)\n",
    "training_data_accuracy = accuracy_score(X_train_prediction, Y_train)"
   ]
  },
  {
   "cell_type": "code",
   "execution_count": 32,
   "id": "427e839e",
   "metadata": {
    "execution": {
     "iopub.execute_input": "2022-06-08T04:33:58.202422Z",
     "iopub.status.busy": "2022-06-08T04:33:58.201782Z",
     "iopub.status.idle": "2022-06-08T04:33:58.206415Z",
     "shell.execute_reply": "2022-06-08T04:33:58.205596Z"
    },
    "papermill": {
     "duration": 0.018301,
     "end_time": "2022-06-08T04:33:58.208940",
     "exception": false,
     "start_time": "2022-06-08T04:33:58.190639",
     "status": "completed"
    },
    "tags": []
   },
   "outputs": [
    {
     "name": "stdout",
     "output_type": "stream",
     "text": [
      "0.9865985576923076\n"
     ]
    }
   ],
   "source": [
    "print(training_data_accuracy)"
   ]
  },
  {
   "cell_type": "code",
   "execution_count": 33,
   "id": "4fad4742",
   "metadata": {
    "execution": {
     "iopub.execute_input": "2022-06-08T04:33:58.233474Z",
     "iopub.status.busy": "2022-06-08T04:33:58.232625Z",
     "iopub.status.idle": "2022-06-08T04:33:58.238483Z",
     "shell.execute_reply": "2022-06-08T04:33:58.237599Z"
    },
    "papermill": {
     "duration": 0.019686,
     "end_time": "2022-06-08T04:33:58.240253",
     "exception": false,
     "start_time": "2022-06-08T04:33:58.220567",
     "status": "completed"
    },
    "tags": []
   },
   "outputs": [],
   "source": [
    "# accuracy score on the test data\n",
    "X_test_prediction = model.predict(X_test)\n",
    "test_data_accuracy = accuracy_score(X_test_prediction, Y_test)"
   ]
  },
  {
   "cell_type": "code",
   "execution_count": 34,
   "id": "33b7fb26",
   "metadata": {
    "execution": {
     "iopub.execute_input": "2022-06-08T04:33:58.262294Z",
     "iopub.status.busy": "2022-06-08T04:33:58.261366Z",
     "iopub.status.idle": "2022-06-08T04:33:58.266044Z",
     "shell.execute_reply": "2022-06-08T04:33:58.265426Z"
    },
    "papermill": {
     "duration": 0.018534,
     "end_time": "2022-06-08T04:33:58.268785",
     "exception": false,
     "start_time": "2022-06-08T04:33:58.250251",
     "status": "completed"
    },
    "tags": []
   },
   "outputs": [
    {
     "name": "stdout",
     "output_type": "stream",
     "text": [
      "0.9790865384615385\n"
     ]
    }
   ],
   "source": [
    "print(test_data_accuracy)"
   ]
  },
  {
   "cell_type": "markdown",
   "id": "874080b9",
   "metadata": {
    "papermill": {
     "duration": 0.01056,
     "end_time": "2022-06-08T04:33:58.291737",
     "exception": false,
     "start_time": "2022-06-08T04:33:58.281177",
     "status": "completed"
    },
    "tags": []
   },
   "source": [
    "Making a Predictive System"
   ]
  },
  {
   "cell_type": "code",
   "execution_count": 35,
   "id": "21431cf1",
   "metadata": {
    "execution": {
     "iopub.execute_input": "2022-06-08T04:33:58.320612Z",
     "iopub.status.busy": "2022-06-08T04:33:58.320055Z",
     "iopub.status.idle": "2022-06-08T04:33:58.328894Z",
     "shell.execute_reply": "2022-06-08T04:33:58.327546Z"
    },
    "papermill": {
     "duration": 0.027916,
     "end_time": "2022-06-08T04:33:58.330828",
     "exception": false,
     "start_time": "2022-06-08T04:33:58.302912",
     "status": "completed"
    },
    "tags": []
   },
   "outputs": [
    {
     "name": "stdout",
     "output_type": "stream",
     "text": [
      "[0]\n",
      "The news is Real\n"
     ]
    }
   ],
   "source": [
    "X_new = X_test[299]\n",
    "\n",
    "prediction = model.predict(X_new)\n",
    "print(prediction)\n",
    "\n",
    "if (prediction[0]==0):\n",
    "  print('The news is Real')\n",
    "else:\n",
    "  print('The news is Fake')"
   ]
  },
  {
   "cell_type": "code",
   "execution_count": 36,
   "id": "89ecdcdf",
   "metadata": {
    "execution": {
     "iopub.execute_input": "2022-06-08T04:33:58.355391Z",
     "iopub.status.busy": "2022-06-08T04:33:58.354241Z",
     "iopub.status.idle": "2022-06-08T04:33:58.360205Z",
     "shell.execute_reply": "2022-06-08T04:33:58.359112Z"
    },
    "papermill": {
     "duration": 0.019936,
     "end_time": "2022-06-08T04:33:58.362139",
     "exception": false,
     "start_time": "2022-06-08T04:33:58.342203",
     "status": "completed"
    },
    "tags": []
   },
   "outputs": [
    {
     "name": "stdout",
     "output_type": "stream",
     "text": [
      "0\n"
     ]
    }
   ],
   "source": [
    "print(Y_test[299])"
   ]
  }
 ],
 "metadata": {
  "kernelspec": {
   "display_name": "Python 3",
   "language": "python",
   "name": "python3"
  },
  "language_info": {
   "codemirror_mode": {
    "name": "ipython",
    "version": 3
   },
   "file_extension": ".py",
   "mimetype": "text/x-python",
   "name": "python",
   "nbconvert_exporter": "python",
   "pygments_lexer": "ipython3",
   "version": "3.7.12"
  },
  "papermill": {
   "default_parameters": {},
   "duration": 56.245613,
   "end_time": "2022-06-08T04:33:59.193155",
   "environment_variables": {},
   "exception": null,
   "input_path": "__notebook__.ipynb",
   "output_path": "__notebook__.ipynb",
   "parameters": {},
   "start_time": "2022-06-08T04:33:02.947542",
   "version": "2.3.4"
  }
 },
 "nbformat": 4,
 "nbformat_minor": 5
}
